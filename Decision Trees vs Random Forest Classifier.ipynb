{
 "cells": [
  {
   "cell_type": "code",
   "execution_count": 2,
   "id": "036fd4c1-7dd0-4aa7-afc1-5eba58846b6d",
   "metadata": {},
   "outputs": [],
   "source": [
    "import pandas as pd\n",
    "import matplotlib.pyplot as plt\n",
    "import numpy as np\n",
    "import seaborn as sns  \n",
    "from sklearn.model_selection import train_test_split\n",
    "from sklearn.metrics import classification_report, confusion_matrix\n",
    "from sklearn.tree import DecisionTreeClassifier"
   ]
  },
  {
   "cell_type": "markdown",
   "id": "c9151aba-bf40-4c29-99ea-9146ed257a8e",
   "metadata": {},
   "source": [
    "# Decision Tree Classifier"
   ]
  },
  {
   "cell_type": "code",
   "execution_count": null,
   "id": "4ce872ce-968e-43b4-a797-06a20c014caa",
   "metadata": {},
   "outputs": [],
   "source": [
    "from sklearn.tree import DecisionTreeClassifier"
   ]
  },
  {
   "cell_type": "markdown",
   "id": "9d9e1f93-a27c-4f54-a795-e390cc59e4d4",
   "metadata": {},
   "source": [
    "Revisiting our dataframe"
   ]
  },
  {
   "cell_type": "code",
   "execution_count": 4,
   "id": "97e6f9ae-48a3-4971-92d1-b7e1750bfdbc",
   "metadata": {},
   "outputs": [],
   "source": [
    "df = pd.read_csv(\"bmi.csv\")\n",
    "sex = pd.get_dummies(df[\"Gender\"], drop_first=True)\n",
    "new_df  = pd.concat([df,sex], axis=1)\n",
    "new_df.drop(\"Gender\", inplace=True, axis = 1)"
   ]
  },
  {
   "cell_type": "code",
   "execution_count": 5,
   "id": "5cdbc88a-b50f-46bd-b098-1b62157b4182",
   "metadata": {},
   "outputs": [],
   "source": [
    "X = new_df.drop(\"Index\", axis=1)\n",
    "y = new_df[\"Index\"]\n",
    "X_train, X_test, y_train, y_test = train_test_split(X, y, test_size=0.3, random_state=101)"
   ]
  },
  {
   "cell_type": "code",
   "execution_count": 6,
   "id": "b98e7fa9-0bfe-42ca-874c-8b11767e110b",
   "metadata": {},
   "outputs": [],
   "source": [
    "tree = DecisionTreeClassifier()"
   ]
  },
  {
   "cell_type": "code",
   "execution_count": 7,
   "id": "1abee202-9b1c-4053-952e-f7b508841950",
   "metadata": {},
   "outputs": [],
   "source": [
    "tree.fit(X_train, y_train)\n",
    "tree_pred = tree.predict(X_test)"
   ]
  },
  {
   "cell_type": "code",
   "execution_count": 8,
   "id": "e0f2675a-1e3e-4d0d-a786-790e68813821",
   "metadata": {},
   "outputs": [
    {
     "name": "stdout",
     "output_type": "stream",
     "text": [
      "              precision    recall  f1-score   support\n",
      "\n",
      "           0       0.50      1.00      0.67         1\n",
      "           1       0.71      0.83      0.77         6\n",
      "           2       0.87      0.87      0.87        23\n",
      "           3       0.75      0.63      0.69        19\n",
      "           4       0.74      0.68      0.71        38\n",
      "           5       0.88      0.94      0.91        63\n",
      "\n",
      "    accuracy                           0.82       150\n",
      "   macro avg       0.74      0.83      0.77       150\n",
      "weighted avg       0.82      0.82      0.82       150\n",
      "\n",
      "[[ 1  0  0  0  0  0]\n",
      " [ 1  5  0  0  0  0]\n",
      " [ 0  2 20  1  0  0]\n",
      " [ 0  0  2 12  5  0]\n",
      " [ 0  0  1  3 26  8]\n",
      " [ 0  0  0  0  4 59]]\n"
     ]
    }
   ],
   "source": [
    "print(classification_report(y_test,tree_pred))\n",
    "print(confusion_matrix(y_test,tree_pred))"
   ]
  },
  {
   "cell_type": "markdown",
   "id": "e1922c8d-6abd-4551-bcf8-308d76a7e298",
   "metadata": {},
   "source": [
    "Let's see how well our model will perform with Random Forest Classifier"
   ]
  },
  {
   "cell_type": "markdown",
   "id": "de2dd061-8071-4d6a-b6d6-14006cd04b65",
   "metadata": {},
   "source": [
    "# Random Forest Classifier"
   ]
  },
  {
   "cell_type": "code",
   "execution_count": 10,
   "id": "c0e44148-3787-4031-97fa-16dda475c396",
   "metadata": {},
   "outputs": [],
   "source": [
    "rfc = RandomForestClassifier()"
   ]
  },
  {
   "cell_type": "code",
   "execution_count": 11,
   "id": "189409d8-7a57-4c77-a7af-998b47a5aea0",
   "metadata": {},
   "outputs": [],
   "source": [
    "rfc.fit(X_train, y_train)\n",
    "rfc_pred = rfc.predict(X_test)"
   ]
  },
  {
   "cell_type": "code",
   "execution_count": 12,
   "id": "6fd0e604-d4c5-4fe6-b516-8d91646c34de",
   "metadata": {},
   "outputs": [
    {
     "name": "stdout",
     "output_type": "stream",
     "text": [
      "              precision    recall  f1-score   support\n",
      "\n",
      "           0       0.00      0.00      0.00         1\n",
      "           1       0.71      0.83      0.77         6\n",
      "           2       0.91      0.91      0.91        23\n",
      "           3       0.80      0.63      0.71        19\n",
      "           4       0.79      0.82      0.81        38\n",
      "           5       0.92      0.97      0.95        63\n",
      "\n",
      "    accuracy                           0.87       150\n",
      "   macro avg       0.69      0.69      0.69       150\n",
      "weighted avg       0.86      0.87      0.86       150\n",
      "\n",
      "\n",
      "\n",
      "[[ 0  1  0  0  0  0]\n",
      " [ 0  5  1  0  0  0]\n",
      " [ 0  1 21  1  0  0]\n",
      " [ 0  0  1 12  6  0]\n",
      " [ 0  0  0  2 31  5]\n",
      " [ 0  0  0  0  2 61]]\n"
     ]
    },
    {
     "name": "stderr",
     "output_type": "stream",
     "text": [
      "C:\\Users\\hottec\\anaconda3\\Lib\\site-packages\\sklearn\\metrics\\_classification.py:1344: UndefinedMetricWarning: Precision and F-score are ill-defined and being set to 0.0 in labels with no predicted samples. Use `zero_division` parameter to control this behavior.\n",
      "  _warn_prf(average, modifier, msg_start, len(result))\n",
      "C:\\Users\\hottec\\anaconda3\\Lib\\site-packages\\sklearn\\metrics\\_classification.py:1344: UndefinedMetricWarning: Precision and F-score are ill-defined and being set to 0.0 in labels with no predicted samples. Use `zero_division` parameter to control this behavior.\n",
      "  _warn_prf(average, modifier, msg_start, len(result))\n",
      "C:\\Users\\hottec\\anaconda3\\Lib\\site-packages\\sklearn\\metrics\\_classification.py:1344: UndefinedMetricWarning: Precision and F-score are ill-defined and being set to 0.0 in labels with no predicted samples. Use `zero_division` parameter to control this behavior.\n",
      "  _warn_prf(average, modifier, msg_start, len(result))\n"
     ]
    }
   ],
   "source": [
    "print(classification_report(y_test,rfc_pred))\n",
    "print(\"\\n\")\n",
    "print(confusion_matrix(y_test,rfc_pred))"
   ]
  }
 ],
 "metadata": {
  "kernelspec": {
   "display_name": "Python 3 (ipykernel)",
   "language": "python",
   "name": "python3"
  },
  "language_info": {
   "codemirror_mode": {
    "name": "ipython",
    "version": 3
   },
   "file_extension": ".py",
   "mimetype": "text/x-python",
   "name": "python",
   "nbconvert_exporter": "python",
   "pygments_lexer": "ipython3",
   "version": "3.11.7"
  }
 },
 "nbformat": 4,
 "nbformat_minor": 5
}
